{
 "cells": [
  {
   "cell_type": "markdown",
   "id": "4773b32d",
   "metadata": {},
   "source": [
    "# Chatbot NLP -- With New Method"
   ]
  },
  {
   "cell_type": "markdown",
   "id": "ac57f20c",
   "metadata": {},
   "source": [
    "---"
   ]
  },
  {
   "cell_type": "code",
   "execution_count": 1,
   "id": "32e9d5b7",
   "metadata": {},
   "outputs": [],
   "source": [
    "# Import Packages"
   ]
  },
  {
   "cell_type": "code",
   "execution_count": 2,
   "id": "0856670f",
   "metadata": {},
   "outputs": [],
   "source": [
    "import pandas as pd\n",
    "import numpy as np\n",
    "from itertools import islice"
   ]
  },
  {
   "cell_type": "markdown",
   "id": "a582c4ba",
   "metadata": {},
   "source": [
    "---"
   ]
  },
  {
   "cell_type": "code",
   "execution_count": 3,
   "id": "f87ae57c",
   "metadata": {},
   "outputs": [],
   "source": [
    "# Load Data & Convert .txt to .csv"
   ]
  },
  {
   "cell_type": "code",
   "execution_count": 4,
   "id": "10291d9f",
   "metadata": {},
   "outputs": [],
   "source": [
    "data = pd.read_csv('/Users/mohilbhatt/Documents/Internship/Chatbot_NLP/New/Dataset/Data_4-4-22.txt', on_bad_lines='skip')"
   ]
  },
  {
   "cell_type": "markdown",
   "id": "c0274455",
   "metadata": {},
   "source": [
    "---"
   ]
  },
  {
   "cell_type": "code",
   "execution_count": 5,
   "id": "911b903a",
   "metadata": {},
   "outputs": [],
   "source": [
    "# Covert Datatype From DataFrame To Array"
   ]
  },
  {
   "cell_type": "code",
   "execution_count": 6,
   "id": "4be281ba",
   "metadata": {},
   "outputs": [],
   "source": [
    "data_array = np.array(data)"
   ]
  },
  {
   "cell_type": "markdown",
   "id": "b671e4e3",
   "metadata": {},
   "source": [
    "---"
   ]
  },
  {
   "cell_type": "code",
   "execution_count": 7,
   "id": "924a9686",
   "metadata": {},
   "outputs": [],
   "source": [
    "# Identify Unique User ID"
   ]
  },
  {
   "cell_type": "code",
   "execution_count": 8,
   "id": "e0862d20",
   "metadata": {},
   "outputs": [],
   "source": [
    "# Position Of Every Unique User ID -- Next Row After \"User Details!!!\""
   ]
  },
  {
   "cell_type": "markdown",
   "id": "08c88899",
   "metadata": {},
   "source": [
    "---"
   ]
  },
  {
   "cell_type": "code",
   "execution_count": 9,
   "id": "2c0c69a1",
   "metadata": {},
   "outputs": [],
   "source": [
    "# Identify Position Of \"User Details!!!\""
   ]
  },
  {
   "cell_type": "code",
   "execution_count": 10,
   "id": "238048dc",
   "metadata": {},
   "outputs": [],
   "source": [
    "KW_UD = [\"User Details!!!\"]\n",
    "\n",
    "def keyword(row):\n",
    "  strings = row['strings']\n",
    "  keywords = KW_UD\n",
    "  keyword = [key for key in keywords if key.upper() in strings.upper()]\n",
    "  return keyword"
   ]
  },
  {
   "cell_type": "code",
   "execution_count": 11,
   "id": "9981a597",
   "metadata": {},
   "outputs": [],
   "source": [
    "df_UD = pd.DataFrame(data_array,columns = ['strings'])\n",
    "df_UD['keyword'] = df_UD.apply(keyword, axis=1)\n",
    "KW_UD_list = list(df_UD['keyword'])"
   ]
  },
  {
   "cell_type": "code",
   "execution_count": 12,
   "id": "6ddc2ff3",
   "metadata": {},
   "outputs": [],
   "source": [
    "p_UD = []\n",
    "\n",
    "for i in range(0,len(data_array)):\n",
    "    if KW_UD_list[i] == ['User Details!!!']:\n",
    "        p_UD.append(i)"
   ]
  },
  {
   "cell_type": "markdown",
   "id": "d82a0cc3",
   "metadata": {},
   "source": [
    "---"
   ]
  },
  {
   "cell_type": "code",
   "execution_count": 13,
   "id": "a830c596",
   "metadata": {},
   "outputs": [],
   "source": [
    "# Identify Unique User ID"
   ]
  },
  {
   "cell_type": "code",
   "execution_count": 14,
   "id": "1031c1f0",
   "metadata": {},
   "outputs": [],
   "source": [
    "user_id = [(np.array(data[0:1]))[0][0]]\n",
    "\n",
    "for i in range(0,len(p_UD)):\n",
    "    user_id.append((np.array(data[p_UD[i]+1:p_UD[i]+2]))[0][0])"
   ]
  },
  {
   "cell_type": "markdown",
   "id": "cc8dfd0c",
   "metadata": {},
   "source": [
    "---"
   ]
  },
  {
   "cell_type": "code",
   "execution_count": 15,
   "id": "468b7f9f",
   "metadata": {},
   "outputs": [],
   "source": [
    "# Create List Of Unique User ID + Symbols [*, $, #, ->, ??]"
   ]
  },
  {
   "cell_type": "code",
   "execution_count": 16,
   "id": "a24135aa",
   "metadata": {},
   "outputs": [],
   "source": [
    "symbol = [\"*\",\"$\",\"#\", \"->\", \"??\"]\n",
    "UI_S = []\n",
    "\n",
    "for i in range(0,len(user_id)):\n",
    "    for j in range(0,len(symbol)):\n",
    "        UI_S.append(user_id[i]+symbol[j])"
   ]
  },
  {
   "cell_type": "markdown",
   "id": "07cc80ec",
   "metadata": {},
   "source": [
    "---"
   ]
  },
  {
   "cell_type": "code",
   "execution_count": 17,
   "id": "7d0462e5",
   "metadata": {},
   "outputs": [],
   "source": [
    "# Split List of Unique User ID + Symbols According To Unique User ID Sublist"
   ]
  },
  {
   "cell_type": "code",
   "execution_count": 18,
   "id": "f18878c2",
   "metadata": {},
   "outputs": [],
   "source": [
    "UIS = iter(UI_S)\n",
    "length_to_split = [len(symbol)]*len(user_id)\n",
    "new_UIS = [list(islice(UIS, elem))\n",
    "          for elem in length_to_split]"
   ]
  },
  {
   "cell_type": "markdown",
   "id": "953d026c",
   "metadata": {},
   "source": [
    "---"
   ]
  },
  {
   "cell_type": "code",
   "execution_count": 19,
   "id": "190c01ed",
   "metadata": {},
   "outputs": [],
   "source": [
    "# Identify Position Of Unique User ID + Symbols"
   ]
  },
  {
   "cell_type": "code",
   "execution_count": 20,
   "id": "dac15f99",
   "metadata": {},
   "outputs": [],
   "source": [
    "def keyword2(row):\n",
    "  strings = row['strings']\n",
    "  keywords = UI_S\n",
    "  keyword2 = [key for key in keywords if key.upper() in strings.upper()]\n",
    "  return keyword2"
   ]
  },
  {
   "cell_type": "code",
   "execution_count": 21,
   "id": "f5f9c5e0",
   "metadata": {},
   "outputs": [],
   "source": [
    "df_UIS = pd.DataFrame(data_array,columns = ['strings'])\n",
    "df_UIS['keyword'] = df_UIS.apply(keyword2, axis=1)\n",
    "UIS_list = list(df_UIS['keyword'])"
   ]
  },
  {
   "cell_type": "code",
   "execution_count": 22,
   "id": "ce4aadb5",
   "metadata": {},
   "outputs": [],
   "source": [
    "p_UIS = []\n",
    "\n",
    "for i in range(0,len(data_array)):\n",
    "    for j in range(0,len(new_UIS)):\n",
    "        for t in range(0,len(symbol)):\n",
    "            if UIS_list[i] == [new_UIS[j][t]]:\n",
    "                p_UIS.append([i,j,t])"
   ]
  },
  {
   "cell_type": "markdown",
   "id": "d0b3b13d",
   "metadata": {},
   "source": [
    "---"
   ]
  },
  {
   "cell_type": "code",
   "execution_count": 23,
   "id": "0c8f7e59",
   "metadata": {},
   "outputs": [],
   "source": [
    "# Split Position Of \"User ID + Symbols\" According To User ID"
   ]
  },
  {
   "cell_type": "code",
   "execution_count": 24,
   "id": "19edc58b",
   "metadata": {},
   "outputs": [],
   "source": [
    "n_ui = len(user_id)+1\n",
    "p_UIS_list = [[] for i in range(1, n_ui)]\n",
    "\n",
    "for i in range(0,len(p_UIS)):\n",
    "    for j in range(0,len(user_id)):\n",
    "        if p_UIS[i][1] == j:\n",
    "            p_UIS_list[j].append(p_UIS[i][0])"
   ]
  },
  {
   "cell_type": "markdown",
   "id": "920c1974",
   "metadata": {},
   "source": [
    "---"
   ]
  },
  {
   "cell_type": "code",
   "execution_count": 25,
   "id": "270ba331",
   "metadata": {},
   "outputs": [],
   "source": [
    "# Pre-defined Keywords -- \"User Interest\" & \"Contact Through\""
   ]
  },
  {
   "cell_type": "code",
   "execution_count": 26,
   "id": "30e10344",
   "metadata": {},
   "outputs": [],
   "source": [
    "KW_user_interest = ['IT Solutions',\n",
    " 'IT Service Support',\n",
    " 'Software Development',\n",
    " 'Career',\n",
    " 'Social Media',\n",
    " \"Let's Talk\",\n",
    " 'CRM - Business Suite',\n",
    " 'Enterprise Mobility',\n",
    " 'Business Intelligence',\n",
    " 'SAP Solutions',\n",
    " 'VOIP Solutions',\n",
    " 'RFID Solutions',\n",
    " 'Enterprise Solutions',\n",
    " 'Travel Business Suite CRM',\n",
    " 'Real Estate Business Suite CRM',\n",
    " 'Engineering Business Suite CRM',\n",
    " 'Hospitality Business Suite CRM',\n",
    " 'Finance Business Suite CRM',\n",
    " 'Education Business Suite CRM',\n",
    " 'Intranet Portal',\n",
    " 'Liquor Store',\n",
    " 'File Tracking System',\n",
    " 'Workflow System',\n",
    " 'Technology Consultation',\n",
    " 'ERP Implemetation',\n",
    " 'Robotic Process Automation',\n",
    " 'Enterprise Application Integration',\n",
    " 'Data Warehousing',\n",
    " 'Offshore Development Services',\n",
    " 'Application Development & Maintenance',\n",
    " 'Website Development',\n",
    " 'Practice Area',\n",
    " 'Methodology',\n",
    " 'Quality Assurance',\n",
    " 'Customer Technical Support']\n",
    "\n",
    "KW_contact_through = [\"Request Agent call\", \"E-mail\", \"Through web\"]"
   ]
  },
  {
   "cell_type": "markdown",
   "id": "cd5c6699",
   "metadata": {},
   "source": [
    "---"
   ]
  },
  {
   "cell_type": "code",
   "execution_count": 27,
   "id": "9634ce39",
   "metadata": {},
   "outputs": [],
   "source": [
    "# Enter User ID For Which Information Is To Be Extracted"
   ]
  },
  {
   "cell_type": "code",
   "execution_count": 28,
   "id": "b88d0e63",
   "metadata": {},
   "outputs": [
    {
     "name": "stdout",
     "output_type": "stream",
     "text": [
      "Enter User ID : a6861ba8-8817-4929-a009-4ee8997149e8\n"
     ]
    }
   ],
   "source": [
    "n_user = list(range(0,len(user_id)))\n",
    "user_dict = dict(zip(user_id,n_user))\n",
    "\n",
    "user_id_n = input(\"Enter User ID : \")\n",
    "user_no = []\n",
    "\n",
    "for key, value in user_dict.items():\n",
    "    if key == user_id_n:\n",
    "        user_no.append(value)"
   ]
  },
  {
   "cell_type": "markdown",
   "id": "46467b9a",
   "metadata": {},
   "source": [
    "---"
   ]
  },
  {
   "cell_type": "code",
   "execution_count": 29,
   "id": "7ea42e26",
   "metadata": {},
   "outputs": [],
   "source": [
    "# Extraction Of Useful Information"
   ]
  },
  {
   "cell_type": "code",
   "execution_count": 30,
   "id": "dc7b050d",
   "metadata": {},
   "outputs": [],
   "source": [
    "new_data = []\n",
    "\n",
    "for i in (p_UIS_list[user_no[0]]):\n",
    "    new_data.append(list(data_array[i]))"
   ]
  },
  {
   "cell_type": "code",
   "execution_count": 31,
   "id": "7d2cc573",
   "metadata": {},
   "outputs": [],
   "source": [
    "browser_name = []\n",
    "\n",
    "for i in range(0,len(new_data)):\n",
    "    if (\"*\" in new_data[i][0].rstrip()) == True:\n",
    "        browser_name.append((new_data[i][0])[(new_data[i][0].index(\"*\"))+1:])"
   ]
  },
  {
   "cell_type": "code",
   "execution_count": 32,
   "id": "c4a56c91",
   "metadata": {},
   "outputs": [],
   "source": [
    "host_name = []\n",
    "\n",
    "for i in range(0,len(new_data)):\n",
    "    if (\"$\" in new_data[i][0].rstrip()) == True:\n",
    "        host_name.append((new_data[i][0])[(new_data[i][0].index(\"$\"))+1:])"
   ]
  },
  {
   "cell_type": "code",
   "execution_count": 33,
   "id": "2e8838c7",
   "metadata": {},
   "outputs": [],
   "source": [
    "user_name = []\n",
    "\n",
    "for i in range(0,len(new_data)):\n",
    "    if (\"#\" in new_data[i][0].rstrip()) == True:\n",
    "        user_name.append((new_data[i][0])[(new_data[i][0].index(\"#\"))+1:])"
   ]
  },
  {
   "cell_type": "code",
   "execution_count": 34,
   "id": "277cf874",
   "metadata": {},
   "outputs": [],
   "source": [
    "date = []\n",
    "\n",
    "for i in range(0,len(new_data)):\n",
    "    if (\"->\" in new_data[i][0]) == True:\n",
    "        date.append(new_data[i][0][:(new_data[i][0].index(\"2022\"))+4])"
   ]
  },
  {
   "cell_type": "code",
   "execution_count": 35,
   "id": "8b3e84e4",
   "metadata": {},
   "outputs": [],
   "source": [
    "user_interest = []\n",
    "new_user_interest_1 = []\n",
    "new_user_interest_2 = []\n",
    "\n",
    "for i in range(0,len(new_data)):\n",
    "    if (\"->\" in new_data[i][0]) == True:\n",
    "        user_interest.append((new_data[i][0])[(new_data[i][0].index(\"->\"))+2:])\n",
    "        \n",
    "for i in range(0,len(user_interest)):\n",
    "    for j in range(0,len(KW_user_interest)):\n",
    "        if user_interest[i].rstrip() == KW_user_interest[j]:\n",
    "            new_user_interest_1.append(user_interest[i].rstrip())\n",
    "            \n",
    "for item in new_user_interest_1:\n",
    "    if item not in new_user_interest_2:\n",
    "        new_user_interest_2.append(item)"
   ]
  },
  {
   "cell_type": "code",
   "execution_count": 36,
   "id": "12fab910",
   "metadata": {},
   "outputs": [],
   "source": [
    "contact_through = []\n",
    "\n",
    "for i in range(0,len(user_interest)):\n",
    "    for j in range(0,len(KW_contact_through)):\n",
    "        if user_interest[i].rstrip() == KW_contact_through[j]:\n",
    "            contact_through.append(user_interest[i])"
   ]
  },
  {
   "cell_type": "code",
   "execution_count": 37,
   "id": "aaa089e5",
   "metadata": {},
   "outputs": [],
   "source": [
    "contact_info = []\n",
    "\n",
    "for i in range(0,len(new_data)):\n",
    "    if (\"??\" in new_data[i][0].rstrip()) == True:\n",
    "        contact_info.append((new_data[i][0])[(new_data[i][0].index(\"??\"))+2:])"
   ]
  },
  {
   "cell_type": "markdown",
   "id": "ca522cc2",
   "metadata": {},
   "source": [
    "---"
   ]
  },
  {
   "cell_type": "code",
   "execution_count": 38,
   "id": "db15f26c",
   "metadata": {},
   "outputs": [],
   "source": [
    "# Print Statements According To Extracted Information Of A User"
   ]
  },
  {
   "cell_type": "code",
   "execution_count": 39,
   "id": "e84b0106",
   "metadata": {
    "scrolled": false
   },
   "outputs": [
    {
     "name": "stdout",
     "output_type": "stream",
     "text": [
      "\n",
      "User ID =  a6861ba8-8817-4929-a009-4ee8997149e8\n",
      "\n",
      "\n",
      "A user name ['Sweety'] had interacted with Sapphire chatbot on ['4/4/2022'] using ['Chrome'] browser with an IP address ['182.77.120.181']\n",
      "\n",
      "Moreover, ['Sweety'] has shown interest in ['IT Solutions', 'SAP Solutions', 'Software Development'] and wants to contact through ['Through web'] & contact info is []\n"
     ]
    }
   ],
   "source": [
    "print(\"\\nUser ID = \", user_id_n)\n",
    "print(\"\\n\\nA user name\", user_name,\"had interacted with Sapphire chatbot on\", list(np.unique(date)), \"using\", browser_name, \"browser\", \"with an IP address\", host_name)\n",
    "print(\"\\nMoreover,\", user_name, \"has shown interest in\", new_user_interest_2, \"and wants to contact through\", np.unique(contact_through), \"& contact info is\", contact_info)"
   ]
  },
  {
   "cell_type": "markdown",
   "id": "37ca18cb",
   "metadata": {},
   "source": [
    "---"
   ]
  },
  {
   "cell_type": "code",
   "execution_count": 40,
   "id": "bdea9d2d",
   "metadata": {},
   "outputs": [],
   "source": [
    "# Export sentence to .txt file"
   ]
  },
  {
   "cell_type": "code",
   "execution_count": 41,
   "id": "63b2e07d",
   "metadata": {},
   "outputs": [],
   "source": [
    "A = \"User ID = \", [user_id_n], \"A user name\", user_name,\"had interacted with Sapphire chatbot on\", list(np.unique(date)), \"using\", browser_name, \"browser\", \"with an IP address\", host_name, \"Moreover,\", user_name, \"has shown interest in\", new_user_interest_2, \"and wants to contact through\", contact_through, \"& contact info is\", contact_info"
   ]
  },
  {
   "cell_type": "code",
   "execution_count": 42,
   "id": "8a01b26b",
   "metadata": {},
   "outputs": [
    {
     "name": "stdout",
     "output_type": "stream",
     "text": [
      "Successfully Appended !!!\n"
     ]
    }
   ],
   "source": [
    "text_file = open('/Users/mohilbhatt/Documents/Internship/Chatbot_NLP/New/Dataset/output_log.txt', \"a\")\n",
    "n_1 = text_file.write('\\n\\n') \n",
    "n_2 = text_file.write(str(A))\n",
    "text_file.close()\n",
    "print(\"Successfully Appended !!!\")"
   ]
  },
  {
   "cell_type": "markdown",
   "id": "7c3f2a08",
   "metadata": {},
   "source": [
    "---"
   ]
  },
  {
   "cell_type": "code",
   "execution_count": null,
   "id": "645e8e73",
   "metadata": {},
   "outputs": [],
   "source": []
  }
 ],
 "metadata": {
  "kernelspec": {
   "display_name": "Python 3 (ipykernel)",
   "language": "python",
   "name": "python3"
  },
  "language_info": {
   "codemirror_mode": {
    "name": "ipython",
    "version": 3
   },
   "file_extension": ".py",
   "mimetype": "text/x-python",
   "name": "python",
   "nbconvert_exporter": "python",
   "pygments_lexer": "ipython3",
   "version": "3.9.7"
  }
 },
 "nbformat": 4,
 "nbformat_minor": 5
}
